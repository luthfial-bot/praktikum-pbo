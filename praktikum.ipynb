{
  "nbformat": 4,
  "nbformat_minor": 0,
  "metadata": {
    "colab": {
      "provenance": [],
      "authorship_tag": "ABX9TyNKAZZynJCu00bMwId871rp",
      "include_colab_link": true
    },
    "kernelspec": {
      "name": "python3",
      "display_name": "Python 3"
    },
    "language_info": {
      "name": "python"
    }
  },
  "cells": [
    {
      "cell_type": "markdown",
      "metadata": {
        "id": "view-in-github",
        "colab_type": "text"
      },
      "source": [
        "<a href=\"https://colab.research.google.com/github/luthfial-bot/praktikum-pbo/blob/main/praktikum.ipynb\" target=\"_parent\"><img src=\"https://colab.research.google.com/assets/colab-badge.svg\" alt=\"Open In Colab\"/></a>"
      ]
    },
    {
      "cell_type": "code",
      "execution_count": 3,
      "metadata": {
        "colab": {
          "base_uri": "https://localhost:8080/"
        },
        "id": "Xmy_Pm8MeGpB",
        "outputId": "01e31a0c-d52d-40d4-bbf5-0a037cdb6a10"
      },
      "outputs": [
        {
          "output_type": "stream",
          "name": "stdout",
          "text": [
            "pitbull\n",
            "lukas\n",
            "rio\n",
            "3\n"
          ]
        }
      ],
      "source": [
        "class Dog:\n",
        "    # Class variable\n",
        "    species = \"pitbull\"\n",
        "\n",
        "    def __init__(self, name, age):\n",
        "\n",
        "        self.name = name\n",
        "        self.age = age\n",
        "\n",
        "\n",
        "dog1 = Dog(\"lukas\", 3)\n",
        "dog2 = Dog(\"rio\", 5)\n",
        "\n",
        "\n",
        "print(dog1.species)\n",
        "print(dog1.name)\n",
        "print(dog2.name)\n",
        "\n",
        "dog1.name = \"Max\"\n",
        "print(dog1.age)"
      ]
    },
    {
      "cell_type": "code",
      "source": [
        "class cat:\n",
        "  def __init__(self,name,species,age):\n",
        "    self.name = name\n",
        "    self.species = species\n",
        "    self.age = age\n",
        "\n",
        "  def mengaum(self):\n",
        "    return f\"{self.name} mengaum \"\n",
        "\n",
        "cat1 = cat(\"kitty\",\"anggora\",4)\n",
        "cat2 = cat(\"boy\",\"persia\",2)\n",
        "\n",
        "print(cat1.name)\n",
        "print(cat2.species)\n",
        "print(cat2.age)\n",
        "print(cat2.mengaum)"
      ],
      "metadata": {
        "colab": {
          "base_uri": "https://localhost:8080/"
        },
        "id": "BW9T5BQLh0Ub",
        "outputId": "a968ded7-23c5-40b8-c51d-47180eb72499"
      },
      "execution_count": 11,
      "outputs": [
        {
          "output_type": "stream",
          "name": "stdout",
          "text": [
            "kitty\n",
            "persia\n",
            "2\n",
            "<bound method cat.mengaum of <__main__.cat object at 0x791e4e0b9e90>>\n"
          ]
        }
      ]
    },
    {
      "cell_type": "code",
      "source": [],
      "metadata": {
        "id": "cOLDhK1Vlzc9"
      },
      "execution_count": null,
      "outputs": []
    },
    {
      "cell_type": "code",
      "source": [
        "#self parameter\n",
        "class motor:\n",
        "\n",
        "    def __init__(self,merk,warna,tahun ):\n",
        "        self.merk = merk\n",
        "        self.warna = warna\n",
        "        self.tahun = tahun\n",
        "motor1 = motor(\"bmw\",\"putih\",2023)\n",
        "motor2 = motor(\"xsr\",\"hitam\",2022)\n",
        "\n",
        "print(motor1.merk, motor1.warna, motor1.tahun)\n",
        "print(motor2.merk, motor2.warna, motor2.tahun)\n"
      ],
      "metadata": {
        "colab": {
          "base_uri": "https://localhost:8080/"
        },
        "id": "u21PIQrUmj-y",
        "outputId": "88278fe4-cc9d-4f5e-babd-a41945c57497"
      },
      "execution_count": 15,
      "outputs": [
        {
          "output_type": "stream",
          "name": "stdout",
          "text": [
            "bmw putih 2023\n",
            "xsr hitam 2022\n"
          ]
        }
      ]
    }
  ]
}